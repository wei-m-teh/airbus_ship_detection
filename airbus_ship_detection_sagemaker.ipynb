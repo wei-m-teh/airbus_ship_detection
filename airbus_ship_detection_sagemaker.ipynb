{
 "cells": [
  {
   "cell_type": "code",
   "execution_count": null,
   "metadata": {},
   "outputs": [],
   "source": [
    "from sagemaker.tensorflow import TensorFlow\n",
    "\n",
    "hvd_instance_type = 'ml.p3.8xlarge'\n",
    "hvd_processes_per_host = 4\n",
    "hvd_instance_count = 1"
   ]
  },
  {
   "cell_type": "code",
   "execution_count": null,
   "metadata": {},
   "outputs": [],
   "source": [
    "distributions = {'mpi': {\n",
    "                    'enabled': True,\n",
    "                    'processes_per_host': hvd_processes_per_host,\n",
    "                    'custom_mpi_options': '-verbose --NCCL_DEBUG=INFO -x OMPI_MCA_btl_vader_single_copy_mechanism=none'\n",
    "                        }\n",
    "                }\n",
    "\n",
    "metric_definitions=[\n",
    "                   {'Name': 'train:loss', 'Regex': 'train_loss=(.*?),'},\n",
    "                   {'Name': 'train:dice_coef', 'Regex': 'train_dice_coef=(.*?),'},\n",
    "                   {'Name': 'train:binary_accuracy', 'Regex': 'train_binary_accuracy=(.*?),'},\n",
    "                   {'Name': 'train:true_positive_rate', 'Regex': 'train_true_positive_rate=(.*?),'},\n",
    "                   {'Name': 'val:loss', 'Regex': 'val_loss=(.*?),'},\n",
    "                   {'Name': 'val:dice_coef', 'Regex': 'val_dice_coef=(.*?),'},\n",
    "                   {'Name': 'val:binary_accuracy', 'Regex': 'val_bin_accuracy=(.*?),'},\n",
    "                   {'Name': 'val:true_positive_rate', 'Regex': 'val_true_positive_rate=(.*?)'}"
   ]
  },
  {
   "cell_type": "code",
   "execution_count": null,
   "metadata": {},
   "outputs": [],
   "source": [
    "hyperparameters = {'epochs': 2, 'batch-size' : 8}\n",
    "role = \"arn:aws:iam::869530972998:role/SagemakerAdmin\"\n",
    "bucket = \"weteh-data-repo-us-east-2\"\n",
    "output_path = os.path.join('s3://', bucket, \"models\")"
   ]
  },
  {
   "cell_type": "code",
   "execution_count": null,
   "metadata": {},
   "outputs": [],
   "source": [
    "estimator_hvd = TensorFlow(\n",
    "                       source_dir='.',\n",
    "                       entry_point='launcher.sh',\n",
    "                       base_job_name='airbus-unet34-keras-3-distributed',\n",
    "                       role=role,\n",
    "                       framework_version='2.1.0',\n",
    "                       py_version='py3',\n",
    "                       hyperparameters=hyperparameters,\n",
    "                       train_instance_count=hvd_instance_count,\n",
    "                       train_instance_type=hvd_instance_type,\n",
    "                       distributions=distributions,\n",
    "                       subnets=[\"subnet-0951bd7928432fe42\"],\n",
    "                       security_group_ids=[\"sg-087f69d528dfc0196\"],\n",
    "                       metric_definitions=metric_definitions,\n",
    "                       output_path=output_path"
   ]
  },
  {
   "cell_type": "code",
   "execution_count": null,
   "metadata": {},
   "outputs": [],
   "source": [
    "file_system_input = FileSystemInput(file_system_id='fs-0a4699a0747f9b546',\n",
    "                                    file_system_type='FSxLustre',\n",
    "                                    directory_path='/3rjrpbmv/airbus_data/deep_learning_v2',\n",
    "                                    file_system_access_mode='ro')"
   ]
  },
  {
   "cell_type": "code",
   "execution_count": null,
   "metadata": {},
   "outputs": [],
   "source": [
    "# Start an Amazon SageMaker training job with Fsx for Lustre using the FileSystemInput class\n",
    "estimator_hvd.fit(file_system_input)\n",
    "print(\"done\")"
   ]
  }
 ],
 "metadata": {
  "kernelspec": {
   "display_name": "Python 3 (Data Science)",
   "language": "python",
   "name": "python3__SAGEMAKER_INTERNAL__arn:aws:sagemaker:us-east-2:429704687514:image/datascience-1.0"
  },
  "language_info": {
   "codemirror_mode": {
    "name": "ipython",
    "version": 3
   },
   "file_extension": ".py",
   "mimetype": "text/x-python",
   "name": "python",
   "nbconvert_exporter": "python",
   "pygments_lexer": "ipython3",
   "version": "3.7.6"
  }
 },
 "nbformat": 4,
 "nbformat_minor": 4
}
