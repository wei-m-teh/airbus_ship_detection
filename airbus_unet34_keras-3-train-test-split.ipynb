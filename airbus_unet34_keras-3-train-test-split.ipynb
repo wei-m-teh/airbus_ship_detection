{
 "cells": [
  {
   "cell_type": "code",
   "execution_count": 55,
   "metadata": {},
   "outputs": [],
   "source": [
    "BATCH_SIZE = 4\n",
    "EDGE_CROP = 16\n",
    "NB_EPOCHS = 20\n",
    "GAUSSIAN_NOISE = 0.1\n",
    "UPSAMPLE_MODE = 'SIMPLE'\n",
    "# downsampling inside the network\n",
    "NET_SCALING = None\n",
    "# downsampling in preprocessing\n",
    "IMG_SCALING = (1, 1)\n",
    "# number of validation images to use\n",
    "VALID_IMG_COUNT= 4\n",
    "VALIDATION_COUNT_PCT= 0.001\n",
    "# maximum number of steps_per_epoch in training\n",
    "MAX_TRAIN_STEPS = 500\n",
    "AUGMENT_BRIGHTNESS = False"
   ]
  },
  {
   "cell_type": "code",
   "execution_count": 56,
   "metadata": {},
   "outputs": [],
   "source": [
    "import numpy as np # linear algebra\n",
    "import pandas as pd # data processing, CSV file I/O (e.g. pd.read_csv)\n",
    "from skimage.io import imread\n",
    "import matplotlib.pyplot as plt\n",
    "import os\n",
    "import gc; gc.enable() # memory is tight\n",
    "import tensorflow as tf"
   ]
  },
  {
   "cell_type": "code",
   "execution_count": 57,
   "metadata": {},
   "outputs": [],
   "source": [
    "ship_dir = '/mnt/fsx/airbus_data/deep_learning_v2'\n",
    "train_image_dir = os.path.join(ship_dir, 'augmented')\n",
    "from skimage.morphology import label"
   ]
  },
  {
   "cell_type": "code",
   "execution_count": 58,
   "metadata": {},
   "outputs": [],
   "source": [
    "from skimage.morphology import label\n",
    "def multi_rle_encode(img):\n",
    "    labels = label(img[:, :, 0])\n",
    "    return [rle_encode(labels==k) for k in np.unique(labels[labels>0])]\n",
    "\n",
    "def rle_encode(img):\n",
    "    '''\n",
    "    img: numpy array, 1 - mask, 0 - background\n",
    "    Returns run length as string formated\n",
    "    '''\n",
    "    pixels = img.T.flatten()\n",
    "    pixels = np.concatenate([[0], pixels, [0]])\n",
    "    runs = np.where(pixels[1:] != pixels[:-1])[0] + 1\n",
    "    runs[1::2] -= runs[::2]\n",
    "    return ' '.join(str(x) for x in runs)\n",
    "\n",
    "def rle_decode(mask_rle, shape=(768, 768)):\n",
    "    '''\n",
    "    mask_rle: run-length as string formated (start length)\n",
    "    shape: (height,width) of array to return\n",
    "    Returns numpy array, 1 - mask, 0 - background\n",
    "    '''\n",
    "    s = mask_rle.split()\n",
    "    starts, lengths = [np.asarray(x, dtype=int) for x in (s[0:][::2], s[1:][::2])]\n",
    "    starts -= 1\n",
    "    ends = starts + lengths\n",
    "    img = np.zeros(shape[0]*shape[1], dtype=np.uint8)\n",
    "    for lo, hi in zip(starts, ends):\n",
    "        img[lo:hi] = 1\n",
    "    return img.reshape(shape).T  # Needed to align to RLE direction\n",
    "\n",
    "def masks_as_image(in_mask_list):\n",
    "    # Take the individual ship masks and create a single mask array for all ships\n",
    "    all_masks = np.zeros((768, 768), dtype = np.int16)\n",
    "    #if isinstance(in_mask_list, list):\n",
    "    for mask in in_mask_list:\n",
    "        if isinstance(mask, str):\n",
    "            all_masks += rle_decode(mask)\n",
    "    return np.expand_dims(all_masks, -1)\n"
   ]
  },
  {
   "cell_type": "code",
   "execution_count": 59,
   "metadata": {},
   "outputs": [
    {
     "name": "stdout",
     "output_type": "stream",
     "text": [
      "3616871 masks found\n",
      "2033172\n",
      "                                             ImageId  \\\n",
      "0  000155de5_f6248d89-63c8-4b6b-bf48-bc76a1113538...   \n",
      "1  000194a2d_8d25adc5-48c0-4d7b-97ec-7d40cfc084a3...   \n",
      "2  000194a2d_8d25adc5-48c0-4d7b-97ec-7d40cfc084a3...   \n",
      "3  000194a2d_8d25adc5-48c0-4d7b-97ec-7d40cfc084a3...   \n",
      "4  000194a2d_8d25adc5-48c0-4d7b-97ec-7d40cfc084a3...   \n",
      "\n",
      "                                       EncodedPixels  \n",
      "0  287464 2 288232 4 288999 7 289767 9 290535 12 ...  \n",
      "1  93243 2 94008 6 94774 8 95542 8 96310 9 97079 ...  \n",
      "2  370690 2 371457 4 371462 2 372226 6 372993 6 3...  \n",
      "3  189490 4 190255 7 191021 10 191790 9 192558 9 ...  \n",
      "4  244036 2 244800 7 245567 8 246333 10 247098 14...  \n"
     ]
    }
   ],
   "source": [
    "masks = pd.read_csv(os.path.join(ship_dir,\n",
    "                                 'train_ship_segmentations_v2_aug.csv'))\n",
    "print(masks.shape[0], 'masks found')\n",
    "print(masks['ImageId'].value_counts().shape[0])\n",
    "print(masks.head())"
   ]
  },
  {
   "cell_type": "code",
   "execution_count": 60,
   "metadata": {},
   "outputs": [],
   "source": [
    "masks['ships'] = masks['EncodedPixels'].map(lambda c_row: 1 if isinstance(c_row, str) else 0)\n",
    "unique_img_ids = masks.groupby('ImageId').agg({'ships': 'sum'}).reset_index()\n",
    "unique_img_ids['has_ship'] = unique_img_ids['ships'].map(lambda x: 1.0 if x>0 else 0.0)\n",
    "unique_img_ids['has_ship_vec'] = unique_img_ids['has_ship'].map(lambda x: [x])"
   ]
  },
  {
   "cell_type": "code",
   "execution_count": 61,
   "metadata": {},
   "outputs": [
    {
     "data": {
      "text/html": [
       "<div>\n",
       "<style scoped>\n",
       "    .dataframe tbody tr th:only-of-type {\n",
       "        vertical-align: middle;\n",
       "    }\n",
       "\n",
       "    .dataframe tbody tr th {\n",
       "        vertical-align: top;\n",
       "    }\n",
       "\n",
       "    .dataframe thead th {\n",
       "        text-align: right;\n",
       "    }\n",
       "</style>\n",
       "<table border=\"1\" class=\"dataframe\">\n",
       "  <thead>\n",
       "    <tr style=\"text-align: right;\">\n",
       "      <th></th>\n",
       "      <th>ImageId</th>\n",
       "      <th>ships</th>\n",
       "      <th>has_ship</th>\n",
       "      <th>has_ship_vec</th>\n",
       "    </tr>\n",
       "  </thead>\n",
       "  <tbody>\n",
       "    <tr>\n",
       "      <th>623328</th>\n",
       "      <td>4ebdd7c55_dff7cb14-d674-44cb-8a9e-bf67c80310a8...</td>\n",
       "      <td>1</td>\n",
       "      <td>1.0</td>\n",
       "      <td>[1.0]</td>\n",
       "    </tr>\n",
       "    <tr>\n",
       "      <th>988242</th>\n",
       "      <td>7c35d33fc_682ce343-e7f0-47fd-a4d1-620be58b44d4...</td>\n",
       "      <td>1</td>\n",
       "      <td>1.0</td>\n",
       "      <td>[1.0]</td>\n",
       "    </tr>\n",
       "    <tr>\n",
       "      <th>1051959</th>\n",
       "      <td>8482ef4d6_ffb66e5d-0545-40aa-a6ac-25813bd50a05...</td>\n",
       "      <td>3</td>\n",
       "      <td>1.0</td>\n",
       "      <td>[1.0]</td>\n",
       "    </tr>\n",
       "    <tr>\n",
       "      <th>1104300</th>\n",
       "      <td>8b50707f3_cab2c8c0-aa46-4774-81ed-2ef586afe912...</td>\n",
       "      <td>1</td>\n",
       "      <td>1.0</td>\n",
       "      <td>[1.0]</td>\n",
       "    </tr>\n",
       "    <tr>\n",
       "      <th>912301</th>\n",
       "      <td>72d0c8d62_85e699d6-7a83-461c-88c5-8abb5ed01e14...</td>\n",
       "      <td>2</td>\n",
       "      <td>1.0</td>\n",
       "      <td>[1.0]</td>\n",
       "    </tr>\n",
       "  </tbody>\n",
       "</table>\n",
       "</div>"
      ],
      "text/plain": [
       "                                                   ImageId  ships  has_ship  \\\n",
       "623328   4ebdd7c55_dff7cb14-d674-44cb-8a9e-bf67c80310a8...      1       1.0   \n",
       "988242   7c35d33fc_682ce343-e7f0-47fd-a4d1-620be58b44d4...      1       1.0   \n",
       "1051959  8482ef4d6_ffb66e5d-0545-40aa-a6ac-25813bd50a05...      3       1.0   \n",
       "1104300  8b50707f3_cab2c8c0-aa46-4774-81ed-2ef586afe912...      1       1.0   \n",
       "912301   72d0c8d62_85e699d6-7a83-461c-88c5-8abb5ed01e14...      2       1.0   \n",
       "\n",
       "        has_ship_vec  \n",
       "623328         [1.0]  \n",
       "988242         [1.0]  \n",
       "1051959        [1.0]  \n",
       "1104300        [1.0]  \n",
       "912301         [1.0]  "
      ]
     },
     "execution_count": 61,
     "metadata": {},
     "output_type": "execute_result"
    }
   ],
   "source": [
    "masks.drop(['ships'], axis=1, inplace=True)\n",
    "unique_img_ids.sample(5)"
   ]
  },
  {
   "cell_type": "code",
   "execution_count": 62,
   "metadata": {},
   "outputs": [],
   "source": [
    "train_df = pd.merge(masks, unique_img_ids)"
   ]
  },
  {
   "cell_type": "code",
   "execution_count": 63,
   "metadata": {},
   "outputs": [],
   "source": [
    "train_df['grouped_ship_count'] = train_df['ships'].map(lambda x: (x + 1) // 2).clip(0, 7)"
   ]
  },
  {
   "cell_type": "code",
   "execution_count": 64,
   "metadata": {},
   "outputs": [
    {
     "data": {
      "text/plain": [
       "grouped_ship_count\n",
       "1    AxesSubplot(0.125,0.125;0.775x0.755)\n",
       "2    AxesSubplot(0.125,0.125;0.775x0.755)\n",
       "3    AxesSubplot(0.125,0.125;0.775x0.755)\n",
       "4    AxesSubplot(0.125,0.125;0.775x0.755)\n",
       "5    AxesSubplot(0.125,0.125;0.775x0.755)\n",
       "6    AxesSubplot(0.125,0.125;0.775x0.755)\n",
       "7    AxesSubplot(0.125,0.125;0.775x0.755)\n",
       "Name: ships, dtype: object"
      ]
     },
     "execution_count": 64,
     "metadata": {},
     "output_type": "execute_result"
    },
    {
     "data": {
      "image/png": "[encoded data removed]",
      "text/plain": [
       "<Figure size 432x288 with 1 Axes>"
      ]
     },
     "metadata": {
      "needs_background": "light"
     },
     "output_type": "display_data"
    }
   ],
   "source": [
    "grouped_train_df = train_df.groupby('grouped_ship_count')\n",
    "grouped_train_df['ships'].hist(bins=np.arange(10))"
   ]
  },
  {
   "cell_type": "code",
   "execution_count": 65,
   "metadata": {},
   "outputs": [],
   "source": [
    "def sample_ships_for_validation(in_df, total, valid_pct):\n",
    "    group_cnt = in_df['ImageId'].count()\n",
    "    frac = int(total * valid_pct * group_cnt // total)\n",
    "    print(\"group cnt: {}, fraction: {}\".format(group_cnt, frac))\n",
    "    return in_df.sample(frac, replace=False)"
   ]
  },
  {
   "cell_type": "code",
   "execution_count": 66,
   "metadata": {},
   "outputs": [
    {
     "name": "stdout",
     "output_type": "stream",
     "text": [
      "group cnt: 2060931, fraction: 2060\n",
      "group cnt: 687335, fraction: 687\n",
      "group cnt: 339823, fraction: 339\n",
      "group cnt: 235069, fraction: 235\n",
      "group cnt: 142524, fraction: 142\n",
      "group cnt: 93124, fraction: 93\n",
      "group cnt: 58065, fraction: 58\n"
     ]
    }
   ],
   "source": [
    "total = train_df['ImageId'].count()\n",
    "valid_df = grouped_train_df.apply(sample_ships_for_validation, total, VALIDATION_COUNT_PCT)"
   ]
  },
  {
   "cell_type": "code",
   "execution_count": 67,
   "metadata": {},
   "outputs": [],
   "source": [
    "all_train_df = train_df[~train_df['ImageId'].isin(valid_df['ImageId'])]"
   ]
  },
  {
   "cell_type": "code",
   "execution_count": 68,
   "metadata": {},
   "outputs": [
    {
     "name": "stdout",
     "output_type": "stream",
     "text": [
      "training samples: 3605011, validation sample size: 3614\n"
     ]
    }
   ],
   "source": [
    "print(\"training samples: {}, validation sample size: {}\".format(all_train_df['ImageId'].count(), valid_df['ImageId'].count()))\n",
    "training_samples = all_train_df['ImageId'].count()\n",
    "validation_samples = valid_df['ImageId'].count()"
   ]
  },
  {
   "cell_type": "code",
   "execution_count": 69,
   "metadata": {},
   "outputs": [],
   "source": [
    "def make_image_gen(in_df, batch_size = BATCH_SIZE):\n",
    "    all_batches = list(in_df.groupby('ImageId'))\n",
    "    out_rgb = []\n",
    "    out_mask = []\n",
    "    while True:\n",
    "        np.random.shuffle(all_batches)\n",
    "        for c_img_id, c_masks in all_batches:\n",
    "            rgb_path = os.path.join(train_image_dir, c_img_id)\n",
    "            c_img = imread(rgb_path)\n",
    "            c_mask = masks_as_image(c_masks['EncodedPixels'].values)\n",
    "            if IMG_SCALING is not None:\n",
    "                c_img = c_img[::IMG_SCALING[0], ::IMG_SCALING[1]]\n",
    "                c_mask = c_mask[::IMG_SCALING[0], ::IMG_SCALING[1]]\n",
    "            out_rgb += [c_img]\n",
    "            out_mask += [c_mask]\n",
    "            if len(out_rgb)>=batch_size:\n",
    "                yield np.stack(out_rgb, 0)/255.0, np.stack(out_mask, 0)\n",
    "                out_rgb, out_mask=[], []"
   ]
  },
  {
   "cell_type": "code",
   "execution_count": 70,
   "metadata": {},
   "outputs": [],
   "source": [
    "# train_gen = make_image_gen(all_train_df)\n",
    "# train_x, train_y = next(train_gen)\n",
    "# print('x', train_x.shape, train_x.min(), train_x.max())\n",
    "# print('y', train_y.shape, train_y.min(), train_y.max())"
   ]
  },
  {
   "cell_type": "code",
   "execution_count": 71,
   "metadata": {},
   "outputs": [
    {
     "name": "stdout",
     "output_type": "stream",
     "text": [
      "x (3614, 768, 768, 3) 0.0 1.0\n",
      "y (3614, 768, 768, 1) 0 1\n"
     ]
    }
   ],
   "source": [
    "valid_gen = make_image_gen(valid_df, validation_samples) # pull all validation samples\n",
    "valid_x, valid_y = next(valid_gen)\n",
    "print('x', valid_x.shape, valid_x.min(), valid_x.max())\n",
    "print('y', valid_y.shape, valid_y.min(), valid_y.max())"
   ]
  },
  {
   "cell_type": "code",
   "execution_count": 72,
   "metadata": {},
   "outputs": [],
   "source": [
    "# write to CSV and \n",
    "masks[masks['ImageId'].isin(all_train_df['ImageId'])].to_csv('{}/train_ship_segmentations_train.csv.0'.format(ship_dir), index=False)\n",
    "masks[masks['ImageId'].isin(valid_df['ImageId'])].to_csv('{}/train_ship_segmentations_valid.csv.0'.format(ship_dir), index=False)      "
   ]
  },
  {
   "cell_type": "code",
   "execution_count": null,
   "metadata": {},
   "outputs": [],
   "source": []
  },
  {
   "cell_type": "code",
   "execution_count": null,
   "metadata": {},
   "outputs": [],
   "source": []
  }
 ],
 "metadata": {
  "kernelspec": {
   "display_name": "Environment (conda_tensorflow2_p36)",
   "language": "python",
   "name": "conda_tensorflow2_p36"
  },
  "language_info": {
   "codemirror_mode": {
    "name": "ipython",
    "version": 3
   },
   "file_extension": ".py",
   "mimetype": "text/x-python",
   "name": "python",
   "nbconvert_exporter": "python",
   "pygments_lexer": "ipython3",
   "version": "3.6.10"
  }
 },
 "nbformat": 4,
 "nbformat_minor": 4
}
